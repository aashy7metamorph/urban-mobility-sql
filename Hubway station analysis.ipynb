{
 "cells": [
  {
   "cell_type": "markdown",
   "metadata": {},
   "source": [
    "![Hubway station](https://nycdsa-blog-files.s3.us-east-2.amazonaws.com/2020/01/charles-cohen/hubway-station-main-481561-31f9Wd7v.jpg)\n"
   ]
  },
  {
   "cell_type": "markdown",
   "metadata": {
    "id": "jnaUBXiD90TP"
   },
   "source": [
    "# Analyzing Hubway Trips in SQL"
   ]
  },
  {
   "cell_type": "code",
   "execution_count": 3,
   "metadata": {
    "id": "HAeLs-2TADoE"
   },
   "outputs": [
    {
     "name": "stdout",
     "output_type": "stream",
     "text": [
      "Defaulting to user installation because normal site-packages is not writeable\n",
      "Requirement already satisfied: jupysql in c:\\users\\muhammad farooq\\appdata\\roaming\\python\\python313\\site-packages (0.11.1)\n",
      "Requirement already satisfied: prettytable>=3.12.0 in c:\\users\\muhammad farooq\\appdata\\roaming\\python\\python313\\site-packages (from jupysql) (3.16.0)\n",
      "Requirement already satisfied: sqlalchemy in c:\\users\\muhammad farooq\\appdata\\roaming\\python\\python313\\site-packages (from jupysql) (2.0.43)\n",
      "Requirement already satisfied: sqlparse in c:\\users\\muhammad farooq\\appdata\\roaming\\python\\python313\\site-packages (from jupysql) (0.5.3)\n",
      "Requirement already satisfied: ipython-genutils>=0.1.0 in c:\\users\\muhammad farooq\\appdata\\roaming\\python\\python313\\site-packages (from jupysql) (0.2.0)\n",
      "Requirement already satisfied: jinja2 in c:\\program files\\python313\\lib\\site-packages (from jupysql) (3.1.5)\n",
      "Requirement already satisfied: sqlglot>=11.3.7 in c:\\users\\muhammad farooq\\appdata\\roaming\\python\\python313\\site-packages (from jupysql) (27.10.0)\n",
      "Requirement already satisfied: jupysql-plugin>=0.4.2 in c:\\users\\muhammad farooq\\appdata\\roaming\\python\\python313\\site-packages (from jupysql) (0.4.5)\n",
      "Requirement already satisfied: ploomber-core>=0.2.7 in c:\\users\\muhammad farooq\\appdata\\roaming\\python\\python313\\site-packages (from jupysql) (0.2.27)\n",
      "Requirement already satisfied: pyyaml in c:\\program files\\python313\\lib\\site-packages (from ploomber-core>=0.2.7->jupysql) (6.0.2)\n",
      "Requirement already satisfied: posthog>=3.0 in c:\\users\\muhammad farooq\\appdata\\roaming\\python\\python313\\site-packages (from ploomber-core>=0.2.7->jupysql) (6.7.0)\n",
      "Requirement already satisfied: wcwidth in c:\\program files\\python313\\lib\\site-packages (from prettytable>=3.12.0->jupysql) (0.2.13)\n",
      "Requirement already satisfied: MarkupSafe>=2.0 in c:\\program files\\python313\\lib\\site-packages (from jinja2->jupysql) (3.0.2)\n",
      "Requirement already satisfied: greenlet>=1 in c:\\users\\muhammad farooq\\appdata\\roaming\\python\\python313\\site-packages (from sqlalchemy->jupysql) (3.2.4)\n",
      "Requirement already satisfied: typing-extensions>=4.6.0 in c:\\program files\\python313\\lib\\site-packages (from sqlalchemy->jupysql) (4.12.2)\n",
      "Requirement already satisfied: requests<3.0,>=2.7 in c:\\program files\\python313\\lib\\site-packages (from posthog>=3.0->ploomber-core>=0.2.7->jupysql) (2.32.3)\n",
      "Requirement already satisfied: six>=1.5 in c:\\program files\\python313\\lib\\site-packages (from posthog>=3.0->ploomber-core>=0.2.7->jupysql) (1.17.0)\n",
      "Requirement already satisfied: python-dateutil>=2.2 in c:\\program files\\python313\\lib\\site-packages (from posthog>=3.0->ploomber-core>=0.2.7->jupysql) (2.9.0.post0)\n",
      "Requirement already satisfied: backoff>=1.10.0 in c:\\users\\muhammad farooq\\appdata\\roaming\\python\\python313\\site-packages (from posthog>=3.0->ploomber-core>=0.2.7->jupysql) (2.2.1)\n",
      "Requirement already satisfied: distro>=1.5.0 in c:\\users\\muhammad farooq\\appdata\\roaming\\python\\python313\\site-packages (from posthog>=3.0->ploomber-core>=0.2.7->jupysql) (1.9.0)\n",
      "Requirement already satisfied: charset-normalizer<4,>=2 in c:\\program files\\python313\\lib\\site-packages (from requests<3.0,>=2.7->posthog>=3.0->ploomber-core>=0.2.7->jupysql) (3.4.1)\n",
      "Requirement already satisfied: idna<4,>=2.5 in c:\\program files\\python313\\lib\\site-packages (from requests<3.0,>=2.7->posthog>=3.0->ploomber-core>=0.2.7->jupysql) (3.10)\n",
      "Requirement already satisfied: urllib3<3,>=1.21.1 in c:\\program files\\python313\\lib\\site-packages (from requests<3.0,>=2.7->posthog>=3.0->ploomber-core>=0.2.7->jupysql) (2.3.0)\n",
      "Requirement already satisfied: certifi>=2017.4.17 in c:\\program files\\python313\\lib\\site-packages (from requests<3.0,>=2.7->posthog>=3.0->ploomber-core>=0.2.7->jupysql) (2025.1.31)\n"
     ]
    },
    {
     "name": "stderr",
     "output_type": "stream",
     "text": [
      "\n",
      "[notice] A new release of pip is available: 25.0.1 -> 25.2\n",
      "[notice] To update, run: python.exe -m pip install --upgrade pip\n"
     ]
    }
   ],
   "source": [
    "#You will have to install ipython-sql using the following command:\n",
    "\n",
    "!pip install jupysql\n",
    "\n",
    "#Just Execute the cell and it will install"
   ]
  },
  {
   "cell_type": "code",
   "execution_count": 6,
   "metadata": {},
   "outputs": [
    {
     "name": "stdout",
     "output_type": "stream",
     "text": [
      "The sql extension is already loaded. To reload it, use:\n",
      "  %reload_ext sql\n"
     ]
    }
   ],
   "source": [
    "%load_ext sql"
   ]
  },
  {
   "cell_type": "code",
   "execution_count": 7,
   "metadata": {
    "colab": {
     "base_uri": "https://localhost:8080/",
     "height": 34
    },
    "executionInfo": {
     "elapsed": 3260,
     "status": "ok",
     "timestamp": 1739814167260,
     "user": {
      "displayName": "Mesum Raza Hemani",
      "userId": "02137032281712867702"
     },
     "user_tz": -300
    },
    "id": "sy4EsMOH90TR",
    "outputId": "60dcc332-9d45-4cbe-ff80-e03f5a3f6182"
   },
   "outputs": [],
   "source": [
    "# If your file is in another Directory (Without Space in Name of Directory) : %sql sqlite:///Hello/Another_Folder/hubway_small_ok.db\n",
    "\n",
    "# If your file is in Same Directory : %sql sqlite:///hubway_small_ok.db\n",
    "\n",
    "%reload_ext sql\n",
    "%sql sqlite:///hubway.db\n",
    "%config SqlMagic.autocommit=False"
   ]
  },
  {
   "cell_type": "markdown",
   "metadata": {
    "id": "I84hmu-B90TV"
   },
   "source": [
    "**Please write your queries below in the empty boxes same as you write in a SQL Window**\n",
    "\n",
    "Just append **%sql** before your query like this '%sql Select * from Trips limit 5;'"
   ]
  },
  {
   "cell_type": "code",
   "execution_count": 8,
   "metadata": {
    "colab": {
     "base_uri": "https://localhost:8080/",
     "height": 100
    },
    "executionInfo": {
     "elapsed": 345,
     "status": "ok",
     "timestamp": 1739814168635,
     "user": {
      "displayName": "Mesum Raza Hemani",
      "userId": "02137032281712867702"
     },
     "user_tz": -300
    },
    "id": "3EQywREo90TW",
    "outputId": "22eb9314-c1bb-4774-cf61-92355e92741e"
   },
   "outputs": [
    {
     "data": {
      "text/html": [
       "<span style=\"None\">Running query in &#x27;sqlite:///hubway.db&#x27;</span>"
      ],
      "text/plain": [
       "Running query in 'sqlite:///hubway.db'"
      ]
     },
     "metadata": {},
     "output_type": "display_data"
    },
    {
     "data": {
      "text/html": [
       "<table>\n",
       "    <thead>\n",
       "        <tr>\n",
       "            <th>id</th>\n",
       "            <th>duration</th>\n",
       "            <th>start_date</th>\n",
       "            <th>start_station</th>\n",
       "            <th>end_date</th>\n",
       "            <th>end_station</th>\n",
       "            <th>bike_number</th>\n",
       "            <th>sub_type</th>\n",
       "            <th>zip_code</th>\n",
       "            <th>birth_date</th>\n",
       "            <th>gender</th>\n",
       "        </tr>\n",
       "    </thead>\n",
       "    <tbody>\n",
       "        <tr>\n",
       "            <td>1</td>\n",
       "            <td>9</td>\n",
       "            <td>2011-07-28 10:12:00</td>\n",
       "            <td>23</td>\n",
       "            <td>2011-07-28 10:12:00</td>\n",
       "            <td>23</td>\n",
       "            <td>B00468</td>\n",
       "            <td>Registered</td>\n",
       "            <td>'97217</td>\n",
       "            <td>1976.0</td>\n",
       "            <td>Male</td>\n",
       "        </tr>\n",
       "        <tr>\n",
       "            <td>2</td>\n",
       "            <td>220</td>\n",
       "            <td>2011-07-28 10:21:00</td>\n",
       "            <td>23</td>\n",
       "            <td>2011-07-28 10:25:00</td>\n",
       "            <td>23</td>\n",
       "            <td>B00554</td>\n",
       "            <td>Registered</td>\n",
       "            <td>'02215</td>\n",
       "            <td>1966.0</td>\n",
       "            <td>Male</td>\n",
       "        </tr>\n",
       "    </tbody>\n",
       "</table>"
      ],
      "text/plain": [
       "+----+----------+---------------------+---------------+---------------------+-------------+-------------+------------+----------+------------+--------+\n",
       "| id | duration |      start_date     | start_station |       end_date      | end_station | bike_number |  sub_type  | zip_code | birth_date | gender |\n",
       "+----+----------+---------------------+---------------+---------------------+-------------+-------------+------------+----------+------------+--------+\n",
       "| 1  |    9     | 2011-07-28 10:12:00 |       23      | 2011-07-28 10:12:00 |      23     |    B00468   | Registered |  '97217  |   1976.0   |  Male  |\n",
       "| 2  |   220    | 2011-07-28 10:21:00 |       23      | 2011-07-28 10:25:00 |      23     |    B00554   | Registered |  '02215  |   1966.0   |  Male  |\n",
       "+----+----------+---------------------+---------------+---------------------+-------------+-------------+------------+----------+------------+--------+"
      ]
     },
     "execution_count": 8,
     "metadata": {},
     "output_type": "execute_result"
    }
   ],
   "source": [
    "%%sql\n",
    "\n",
    "Select * from Trips limit 2"
   ]
  },
  {
   "cell_type": "markdown",
   "metadata": {
    "id": "VjnOTBKt90Ta"
   },
   "source": [
    "**About the Dataset and Schema**\n",
    "\n",
    "The database has two tables, trips and stations. To begin with, we'll look at the trips table. It contains the following columns:\n",
    "\n",
    "\n",
    "**Trips:**\n",
    "\n",
    "id — A unique integer that serves as a reference for each trip\n",
    "\n",
    "duration — The duration of the trip, measured in seconds\n",
    "\n",
    "start_date — The date and time the trip began\n",
    "\n",
    "start_station — An integer that corresponds to the id column in the stations table for the station the trip started at\n",
    "\n",
    "end_date — The date and time the trip ended\n",
    "\n",
    "end_station — The 'id' of the station the trip ended at\n",
    "\n",
    "bike_number — Hubway's unique identifier for the bike used on the trip\n",
    "\n",
    "sub_type — The subscription type of the user. \"Registered\" for users with a membership, \"Casual\" for users without a membership\n",
    "\n",
    "zip_code — The zip code of the user (only available for registered members)\n",
    "\n",
    "birth_date — The birth year of the user (only available for registered members)\n",
    "\n",
    "gender — The gender of the user (only available for registered members)\n",
    "\n",
    "\n",
    "**Station:**\n",
    "\n",
    "\n",
    "id — A unique identifier for each station (corresponds to the start_station and end_station columns in the trips table)\n",
    "\n",
    "station — The station name\n",
    "\n",
    "municipality — The municipality that the station is in (Boston, Brookline, Cambridge or Somerville)\n",
    "\n",
    "lat — The latitude of the station\n",
    "\n",
    "lng — The longitude of the station"
   ]
  },
  {
   "cell_type": "markdown",
   "metadata": {
    "id": "hKDibiAy90Tb"
   },
   "source": [
    "## Analytical Questions Test in SQL"
   ]
  },
  {
   "cell_type": "markdown",
   "metadata": {
    "id": "CwBUDLCf90Tc"
   },
   "source": [
    "Q1. What was the duration of the longest trip? What was the average trip duration? What was the smallest trip duration?"
   ]
  },
  {
   "cell_type": "code",
   "execution_count": 13,
   "metadata": {
    "colab": {
     "base_uri": "https://localhost:8080/",
     "height": 95
    },
    "executionInfo": {
     "elapsed": 377,
     "status": "ok",
     "timestamp": 1725720713698,
     "user": {
      "displayName": "Mesum Raza Hemani",
      "userId": "02137032281712867702"
     },
     "user_tz": -300
    },
    "id": "OW5Sd0Ri90Tc",
    "outputId": "bded065f-fc84-4168-cfed-60974fdc28d7"
   },
   "outputs": [
    {
     "data": {
      "text/html": [
       "<span style=\"None\">Running query in &#x27;sqlite:///hubway.db&#x27;</span>"
      ],
      "text/plain": [
       "Running query in 'sqlite:///hubway.db'"
      ]
     },
     "metadata": {},
     "output_type": "display_data"
    },
    {
     "data": {
      "text/html": [
       "<table>\n",
       "    <thead>\n",
       "        <tr>\n",
       "            <th>longest_trip</th>\n",
       "            <th>average_trip</th>\n",
       "            <th>shortest_trip</th>\n",
       "        </tr>\n",
       "    </thead>\n",
       "    <tbody>\n",
       "        <tr>\n",
       "            <td>9999</td>\n",
       "            <td>912.41</td>\n",
       "            <td>0</td>\n",
       "        </tr>\n",
       "    </tbody>\n",
       "</table>"
      ],
      "text/plain": [
       "+--------------+--------------+---------------+\n",
       "| longest_trip | average_trip | shortest_trip |\n",
       "+--------------+--------------+---------------+\n",
       "|     9999     |    912.41    |       0       |\n",
       "+--------------+--------------+---------------+"
      ]
     },
     "execution_count": 13,
     "metadata": {},
     "output_type": "execute_result"
    }
   ],
   "source": [
    "%%sql\n",
    "SELECT \n",
    "    MAX(duration) AS longest_trip,\n",
    "    ROUND(AVG(duration), 2) AS average_trip,\n",
    "    MIN(duration) AS shortest_trip\n",
    "FROM trips;\n"
   ]
  },
  {
   "cell_type": "markdown",
   "metadata": {
    "id": "1eK00otH90Tg"
   },
   "source": [
    "Q2. How many trips were taken by 'Registered' users?\n",
    "\n",
    "Hint: Use Sub Type to Filter by Where"
   ]
  },
  {
   "cell_type": "code",
   "execution_count": 12,
   "metadata": {
    "id": "fDtqSAsl90Tg",
    "outputId": "5cb23c31-48b4-4da6-908c-b7b26fad2955"
   },
   "outputs": [
    {
     "data": {
      "text/html": [
       "<span style=\"None\">Running query in &#x27;sqlite:///hubway.db&#x27;</span>"
      ],
      "text/plain": [
       "Running query in 'sqlite:///hubway.db'"
      ]
     },
     "metadata": {},
     "output_type": "display_data"
    },
    {
     "data": {
      "text/html": [
       "<table>\n",
       "    <thead>\n",
       "        <tr>\n",
       "            <th>registered_trips</th>\n",
       "        </tr>\n",
       "    </thead>\n",
       "    <tbody>\n",
       "        <tr>\n",
       "            <td>1105192</td>\n",
       "        </tr>\n",
       "    </tbody>\n",
       "</table>"
      ],
      "text/plain": [
       "+------------------+\n",
       "| registered_trips |\n",
       "+------------------+\n",
       "|     1105192      |\n",
       "+------------------+"
      ]
     },
     "execution_count": 12,
     "metadata": {},
     "output_type": "execute_result"
    }
   ],
   "source": [
    "%%sql\n",
    "SELECT COUNT(*) AS registered_trips\n",
    "FROM trips\n",
    "WHERE sub_type = 'Registered';\n"
   ]
  },
  {
   "cell_type": "markdown",
   "metadata": {
    "id": "RiYQ1YmB90Tk"
   },
   "source": [
    "Q3. How many trips were taken by male users in comparison to Female users? for Registered users only\n",
    "\n",
    "Hint: Group By Gender and Calculate Count"
   ]
  },
  {
   "cell_type": "code",
   "execution_count": 15,
   "metadata": {
    "id": "P8KHXkUM90Tl"
   },
   "outputs": [
    {
     "data": {
      "text/html": [
       "<span style=\"None\">Running query in &#x27;sqlite:///hubway.db&#x27;</span>"
      ],
      "text/plain": [
       "Running query in 'sqlite:///hubway.db'"
      ]
     },
     "metadata": {},
     "output_type": "display_data"
    },
    {
     "data": {
      "text/html": [
       "<table>\n",
       "    <thead>\n",
       "        <tr>\n",
       "            <th>gender</th>\n",
       "            <th>trip_count</th>\n",
       "        </tr>\n",
       "    </thead>\n",
       "    <tbody>\n",
       "        <tr>\n",
       "            <td>Female</td>\n",
       "            <td>271333</td>\n",
       "        </tr>\n",
       "        <tr>\n",
       "            <td>Male</td>\n",
       "            <td>833858</td>\n",
       "        </tr>\n",
       "    </tbody>\n",
       "</table>"
      ],
      "text/plain": [
       "+--------+------------+\n",
       "| gender | trip_count |\n",
       "+--------+------------+\n",
       "| Female |   271333   |\n",
       "|  Male  |   833858   |\n",
       "+--------+------------+"
      ]
     },
     "execution_count": 15,
     "metadata": {},
     "output_type": "execute_result"
    }
   ],
   "source": [
    "%%sql\n",
    "SELECT gender, COUNT(*) AS trip_count\n",
    "FROM trips\n",
    "WHERE sub_type = 'Registered'\n",
    "  AND gender IN ('Male', 'Female')\n",
    "GROUP BY gender;\n",
    "\n"
   ]
  },
  {
   "cell_type": "markdown",
   "metadata": {
    "id": "TUYa6eNh90Tq"
   },
   "source": [
    "Q4. Do registered or casual users take longer trips?\n",
    "\n",
    "Hint: Group By Sub Type and Calculate Average"
   ]
  },
  {
   "cell_type": "code",
   "execution_count": 16,
   "metadata": {
    "id": "ZZ7VJRul90Tq"
   },
   "outputs": [
    {
     "data": {
      "text/html": [
       "<span style=\"None\">Running query in &#x27;sqlite:///hubway.db&#x27;</span>"
      ],
      "text/plain": [
       "Running query in 'sqlite:///hubway.db'"
      ]
     },
     "metadata": {},
     "output_type": "display_data"
    },
    {
     "data": {
      "text/html": [
       "<table>\n",
       "    <thead>\n",
       "        <tr>\n",
       "            <th>sub_type</th>\n",
       "            <th>avg_duration_minutes</th>\n",
       "        </tr>\n",
       "    </thead>\n",
       "    <tbody>\n",
       "        <tr>\n",
       "            <td>Casual</td>\n",
       "            <td>25.33</td>\n",
       "        </tr>\n",
       "        <tr>\n",
       "            <td>Registered</td>\n",
       "            <td>10.95</td>\n",
       "        </tr>\n",
       "    </tbody>\n",
       "</table>"
      ],
      "text/plain": [
       "+------------+----------------------+\n",
       "|  sub_type  | avg_duration_minutes |\n",
       "+------------+----------------------+\n",
       "|   Casual   |        25.33         |\n",
       "| Registered |        10.95         |\n",
       "+------------+----------------------+"
      ]
     },
     "execution_count": 16,
     "metadata": {},
     "output_type": "execute_result"
    }
   ],
   "source": [
    "%%sql\n",
    "SELECT sub_type, ROUND(AVG(duration)/60, 2) AS avg_duration_minutes\n",
    "FROM trips\n",
    "GROUP BY sub_type;\n"
   ]
  },
  {
   "cell_type": "markdown",
   "metadata": {
    "id": "hv9m6dsv90Tu"
   },
   "source": [
    "Q5. Which bike was used for the most trips?\n",
    "\n",
    "Hint : Use Bike Number and Limit Results to 1"
   ]
  },
  {
   "cell_type": "code",
   "execution_count": 17,
   "metadata": {
    "id": "8LIAd_iv90Tv"
   },
   "outputs": [
    {
     "data": {
      "text/html": [
       "<span style=\"None\">Running query in &#x27;sqlite:///hubway.db&#x27;</span>"
      ],
      "text/plain": [
       "Running query in 'sqlite:///hubway.db'"
      ]
     },
     "metadata": {},
     "output_type": "display_data"
    },
    {
     "data": {
      "text/html": [
       "<table>\n",
       "    <thead>\n",
       "        <tr>\n",
       "            <th>bike_number</th>\n",
       "            <th>trip_count</th>\n",
       "        </tr>\n",
       "    </thead>\n",
       "    <tbody>\n",
       "        <tr>\n",
       "            <td>B00490</td>\n",
       "            <td>2120</td>\n",
       "        </tr>\n",
       "    </tbody>\n",
       "</table>"
      ],
      "text/plain": [
       "+-------------+------------+\n",
       "| bike_number | trip_count |\n",
       "+-------------+------------+\n",
       "|    B00490   |    2120    |\n",
       "+-------------+------------+"
      ]
     },
     "execution_count": 17,
     "metadata": {},
     "output_type": "execute_result"
    }
   ],
   "source": [
    "%%sql\n",
    "SELECT bike_number, COUNT(*) AS trip_count\n",
    "FROM trips\n",
    "GROUP BY bike_number\n",
    "ORDER BY trip_count DESC\n",
    "LIMIT 1;\n"
   ]
  },
  {
   "cell_type": "markdown",
   "metadata": {
    "id": "cf3TVN2C90Tx"
   },
   "source": [
    "Q6. What is the average duration of trips by users over the age of 30?\n",
    "\n",
    "Hint : DoB is already in years and use Airthmetic operator to caluculate Age like (2025-DOB)\n",
    "\n",
    "Link : #GETTING AGE IN SQLLITE : https://stackoverflow.com/questions/49929953/how-to-calculate-approximate-age-based-on-birth-year"
   ]
  },
  {
   "cell_type": "code",
   "execution_count": 78,
   "metadata": {},
   "outputs": [
    {
     "data": {
      "image/png": "[encoded data removed]",
      "text/plain": [
       "<Figure size 600x400 with 1 Axes>"
      ]
     },
     "metadata": {},
     "output_type": "display_data"
    }
   ],
   "source": [
    "import matplotlib.pyplot as plt\n",
    "\n",
    "# Example result from your query (replace with your actual value)\n",
    "avg_duration_minutes = 12.34  \n",
    "\n",
    "plt.figure(figsize=(6,4))\n",
    "bar = plt.bar([\"Avg Duration (30+ yrs)\"], [avg_duration_minutes], \n",
    "              color=\"#f78fb3\", edgecolor=\"black\", linewidth=1.2, width=0.5)\n",
    "\n",
    "# Title\n",
    "plt.title(\"Average Trip Duration (Registered Users Age 30+)\", \n",
    "          fontsize=14, fontweight='bold', color=\"#6c5ce7\")\n",
    "\n",
    "# Label inside bar\n",
    "for b in bar:\n",
    "    yval = b.get_height()\n",
    "    plt.text(b.get_x() + b.get_width()/2, yval/2, \n",
    "             f\"{yval:.2f} min\", ha='center', va='center', \n",
    "             fontsize=12, fontweight='bold', color=\"white\")\n",
    "\n",
    "# Clean style\n",
    "plt.ylabel(\"Minutes\")\n",
    "plt.grid(axis='y', linestyle='--', alpha=0.5)\n",
    "plt.box(False)\n",
    "\n",
    "plt.show()\n"
   ]
  },
  {
   "cell_type": "code",
   "execution_count": 18,
   "metadata": {
    "id": "BmVwA2Lm90Ty"
   },
   "outputs": [
    {
     "data": {
      "text/html": [
       "<span style=\"None\">Running query in &#x27;sqlite:///hubway.db&#x27;</span>"
      ],
      "text/plain": [
       "Running query in 'sqlite:///hubway.db'"
      ]
     },
     "metadata": {},
     "output_type": "display_data"
    },
    {
     "data": {
      "text/html": [
       "<table>\n",
       "    <thead>\n",
       "        <tr>\n",
       "            <th>avg_duration_minutes</th>\n",
       "        </tr>\n",
       "    </thead>\n",
       "    <tbody>\n",
       "        <tr>\n",
       "            <td>10.96</td>\n",
       "        </tr>\n",
       "    </tbody>\n",
       "</table>"
      ],
      "text/plain": [
       "+----------------------+\n",
       "| avg_duration_minutes |\n",
       "+----------------------+\n",
       "|        10.96         |\n",
       "+----------------------+"
      ]
     },
     "execution_count": 18,
     "metadata": {},
     "output_type": "execute_result"
    }
   ],
   "source": [
    "%%sql\n",
    "SELECT ROUND(AVG(duration)/60, 2) AS avg_duration_minutes\n",
    "FROM trips\n",
    "WHERE sub_type = 'Registered'\n",
    "  AND (2025 - birth_date) > 30;\n"
   ]
  },
  {
   "cell_type": "markdown",
   "metadata": {
    "id": "ucw8rEnY90T0"
   },
   "source": [
    "Q7. Which stations are most frequently used for round trips?\n",
    "\n",
    "Hint: Round trip is considered as where Start and Stop Stations are same. Limit to top 5 Stations"
   ]
  },
  {
   "cell_type": "code",
   "execution_count": 19,
   "metadata": {
    "id": "Ew6vmqkZ90T1",
    "tags": []
   },
   "outputs": [
    {
     "data": {
      "text/html": [
       "<span style=\"None\">Running query in &#x27;sqlite:///hubway.db&#x27;</span>"
      ],
      "text/plain": [
       "Running query in 'sqlite:///hubway.db'"
      ]
     },
     "metadata": {},
     "output_type": "display_data"
    },
    {
     "data": {
      "text/html": [
       "<table>\n",
       "    <thead>\n",
       "        <tr>\n",
       "            <th>station</th>\n",
       "            <th>round_trip_count</th>\n",
       "        </tr>\n",
       "    </thead>\n",
       "    <tbody>\n",
       "        <tr>\n",
       "            <td>The Esplanade - Beacon St. at Arlington St.</td>\n",
       "            <td>3064</td>\n",
       "        </tr>\n",
       "        <tr>\n",
       "            <td>Charles Circle - Charles St. at Cambridge St.</td>\n",
       "            <td>2739</td>\n",
       "        </tr>\n",
       "        <tr>\n",
       "            <td>Boston Public Library - 700 Boylston St.</td>\n",
       "            <td>2548</td>\n",
       "        </tr>\n",
       "        <tr>\n",
       "            <td>Boylston St. at Arlington St.</td>\n",
       "            <td>2163</td>\n",
       "        </tr>\n",
       "        <tr>\n",
       "            <td>Beacon St / Mass Ave</td>\n",
       "            <td>2144</td>\n",
       "        </tr>\n",
       "    </tbody>\n",
       "</table>"
      ],
      "text/plain": [
       "+-----------------------------------------------+------------------+\n",
       "|                    station                    | round_trip_count |\n",
       "+-----------------------------------------------+------------------+\n",
       "|  The Esplanade - Beacon St. at Arlington St.  |       3064       |\n",
       "| Charles Circle - Charles St. at Cambridge St. |       2739       |\n",
       "|    Boston Public Library - 700 Boylston St.   |       2548       |\n",
       "|         Boylston St. at Arlington St.         |       2163       |\n",
       "|              Beacon St / Mass Ave             |       2144       |\n",
       "+-----------------------------------------------+------------------+"
      ]
     },
     "execution_count": 19,
     "metadata": {},
     "output_type": "execute_result"
    }
   ],
   "source": [
    "%%sql\n",
    "SELECT s.station, COUNT(*) AS round_trip_count\n",
    "FROM trips t\n",
    "JOIN stations s ON t.start_station = s.id\n",
    "WHERE t.start_station = t.end_station\n",
    "GROUP BY s.station\n",
    "ORDER BY round_trip_count DESC\n",
    "LIMIT 5;\n"
   ]
  },
  {
   "cell_type": "markdown",
   "metadata": {
    "id": "gitxlr_Q90T3"
   },
   "source": [
    "Q8. How many trips start and end in different municipalities?\n",
    "\n",
    "Hint: We need to JOIN the trips table to the stations table twice. Once ON the start_station column and then ON the end_station"
   ]
  },
  {
   "cell_type": "code",
   "execution_count": 20,
   "metadata": {
    "id": "hSxmcbWY90T4"
   },
   "outputs": [
    {
     "data": {
      "text/html": [
       "<span style=\"None\">Running query in &#x27;sqlite:///hubway.db&#x27;</span>"
      ],
      "text/plain": [
       "Running query in 'sqlite:///hubway.db'"
      ]
     },
     "metadata": {},
     "output_type": "display_data"
    },
    {
     "data": {
      "text/html": [
       "<table>\n",
       "    <thead>\n",
       "        <tr>\n",
       "            <th>trips_different_municipalities</th>\n",
       "        </tr>\n",
       "    </thead>\n",
       "    <tbody>\n",
       "        <tr>\n",
       "            <td>309748</td>\n",
       "        </tr>\n",
       "    </tbody>\n",
       "</table>"
      ],
      "text/plain": [
       "+--------------------------------+\n",
       "| trips_different_municipalities |\n",
       "+--------------------------------+\n",
       "|             309748             |\n",
       "+--------------------------------+"
      ]
     },
     "execution_count": 20,
     "metadata": {},
     "output_type": "execute_result"
    }
   ],
   "source": [
    "%%sql\n",
    "SELECT COUNT(*) AS trips_different_municipalities\n",
    "FROM trips t\n",
    "JOIN stations s_start ON t.start_station = s_start.id\n",
    "JOIN stations s_end ON t.end_station = s_end.id\n",
    "WHERE s_start.municipality != s_end.municipality;\n"
   ]
  },
  {
   "cell_type": "markdown",
   "metadata": {
    "id": "VMIUioIk90T7"
   },
   "source": [
    "Q9. How many trips incurred additional fees (lasted longer than 30 minutes)?\n",
    "\n",
    "Hint: Use an Arithmetic function to calculate Duration in Minutes and Use in Where Clause"
   ]
  },
  {
   "cell_type": "code",
   "execution_count": 21,
   "metadata": {
    "id": "fdR9aX5290T8"
   },
   "outputs": [
    {
     "data": {
      "text/html": [
       "<span style=\"None\">Running query in &#x27;sqlite:///hubway.db&#x27;</span>"
      ],
      "text/plain": [
       "Running query in 'sqlite:///hubway.db'"
      ]
     },
     "metadata": {},
     "output_type": "display_data"
    },
    {
     "data": {
      "text/html": [
       "<table>\n",
       "    <thead>\n",
       "        <tr>\n",
       "            <th>trips_over_30_min</th>\n",
       "        </tr>\n",
       "    </thead>\n",
       "    <tbody>\n",
       "        <tr>\n",
       "            <td>119917</td>\n",
       "        </tr>\n",
       "    </tbody>\n",
       "</table>"
      ],
      "text/plain": [
       "+-------------------+\n",
       "| trips_over_30_min |\n",
       "+-------------------+\n",
       "|       119917      |\n",
       "+-------------------+"
      ]
     },
     "execution_count": 21,
     "metadata": {},
     "output_type": "execute_result"
    }
   ],
   "source": [
    "%%sql\n",
    "SELECT COUNT(*) AS trips_over_30_min\n",
    "FROM trips\n",
    "WHERE (duration / 60) > 30;\n"
   ]
  },
  {
   "cell_type": "markdown",
   "metadata": {
    "id": "ksQvYCPY90T_"
   },
   "source": [
    "Q10. Which bike was used for the longest total time? Provide the answer in Hours\n",
    "\n",
    "Hint: Use an Group by Bike Number to sum Duration in Seconds and Limit Result to 1"
   ]
  },
  {
   "cell_type": "code",
   "execution_count": 22,
   "metadata": {
    "id": "od0_jInW90UA"
   },
   "outputs": [
    {
     "data": {
      "text/html": [
       "<span style=\"None\">Running query in &#x27;sqlite:///hubway.db&#x27;</span>"
      ],
      "text/plain": [
       "Running query in 'sqlite:///hubway.db'"
      ]
     },
     "metadata": {},
     "output_type": "display_data"
    },
    {
     "data": {
      "text/html": [
       "<table>\n",
       "    <thead>\n",
       "        <tr>\n",
       "            <th>bike_number</th>\n",
       "            <th>total_hours</th>\n",
       "        </tr>\n",
       "    </thead>\n",
       "    <tbody>\n",
       "        <tr>\n",
       "            <td>B00490</td>\n",
       "            <td>571.0</td>\n",
       "        </tr>\n",
       "    </tbody>\n",
       "</table>"
      ],
      "text/plain": [
       "+-------------+-------------+\n",
       "| bike_number | total_hours |\n",
       "+-------------+-------------+\n",
       "|    B00490   |    571.0    |\n",
       "+-------------+-------------+"
      ]
     },
     "execution_count": 22,
     "metadata": {},
     "output_type": "execute_result"
    }
   ],
   "source": [
    "%%sql\n",
    "SELECT bike_number, ROUND(SUM(duration)/3600, 2) AS total_hours\n",
    "FROM trips\n",
    "GROUP BY bike_number\n",
    "ORDER BY total_hours DESC\n",
    "LIMIT 1;\n"
   ]
  },
  {
   "cell_type": "markdown",
   "metadata": {
    "id": "WoBja5Bi90UD"
   },
   "source": [
    "Q11. Did registered or casual users take more round trips?\n",
    "\n",
    "Hint: Recall Q7 and Modify your query to answer by Sub Type"
   ]
  },
  {
   "cell_type": "markdown",
   "metadata": {},
   "source": [
    "## Casual riders (non-members) often use bikes for leisure, exploration, or tourism. They’re more likely to:\n",
    "\n",
    "Start and end at the same scenic station (round trip).\n",
    "\n",
    "Take longer rides.\n",
    "\n",
    "Registered users (members) usually use bikes for commuting or errands. They’re more likely to:\n",
    "\n",
    "Start and end at different stations (point-to-point trips).\n",
    "\n",
    "Take shorter, more direct rides."
   ]
  },
  {
   "cell_type": "code",
   "execution_count": 23,
   "metadata": {
    "id": "hMmdNfE590UE"
   },
   "outputs": [
    {
     "data": {
      "text/html": [
       "<span style=\"None\">Running query in &#x27;sqlite:///hubway.db&#x27;</span>"
      ],
      "text/plain": [
       "Running query in 'sqlite:///hubway.db'"
      ]
     },
     "metadata": {},
     "output_type": "display_data"
    },
    {
     "data": {
      "text/html": [
       "<table>\n",
       "    <thead>\n",
       "        <tr>\n",
       "            <th>sub_type</th>\n",
       "            <th>round_trip_count</th>\n",
       "        </tr>\n",
       "    </thead>\n",
       "    <tbody>\n",
       "        <tr>\n",
       "            <td>Casual</td>\n",
       "            <td>41427</td>\n",
       "        </tr>\n",
       "        <tr>\n",
       "            <td>Registered</td>\n",
       "            <td>31635</td>\n",
       "        </tr>\n",
       "    </tbody>\n",
       "</table>"
      ],
      "text/plain": [
       "+------------+------------------+\n",
       "|  sub_type  | round_trip_count |\n",
       "+------------+------------------+\n",
       "|   Casual   |      41427       |\n",
       "| Registered |      31635       |\n",
       "+------------+------------------+"
      ]
     },
     "execution_count": 23,
     "metadata": {},
     "output_type": "execute_result"
    }
   ],
   "source": [
    "%%sql\n",
    "SELECT sub_type, COUNT(*) AS round_trip_count\n",
    "FROM trips\n",
    "WHERE start_station = end_station\n",
    "GROUP BY sub_type\n",
    "ORDER BY round_trip_count DESC;\n"
   ]
  },
  {
   "cell_type": "markdown",
   "metadata": {
    "id": "3HQvpScA90UG"
   },
   "source": [
    "Q12. Which municipality had the most frequent Station End?\n",
    "\n",
    "Hint: Join the Station table on End Station and then Group by Municipality to find answer"
   ]
  },
  {
   "cell_type": "code",
   "execution_count": 24,
   "metadata": {
    "id": "l3UJnvRV90UH"
   },
   "outputs": [
    {
     "data": {
      "text/html": [
       "<span style=\"None\">Running query in &#x27;sqlite:///hubway.db&#x27;</span>"
      ],
      "text/plain": [
       "Running query in 'sqlite:///hubway.db'"
      ]
     },
     "metadata": {},
     "output_type": "display_data"
    },
    {
     "data": {
      "text/html": [
       "<table>\n",
       "    <thead>\n",
       "        <tr>\n",
       "            <th>municipality</th>\n",
       "            <th>end_count</th>\n",
       "        </tr>\n",
       "    </thead>\n",
       "    <tbody>\n",
       "        <tr>\n",
       "            <td>Boston</td>\n",
       "            <td>1212364</td>\n",
       "        </tr>\n",
       "    </tbody>\n",
       "</table>"
      ],
      "text/plain": [
       "+--------------+-----------+\n",
       "| municipality | end_count |\n",
       "+--------------+-----------+\n",
       "|    Boston    |  1212364  |\n",
       "+--------------+-----------+"
      ]
     },
     "execution_count": 24,
     "metadata": {},
     "output_type": "execute_result"
    }
   ],
   "source": [
    "%%sql\n",
    "SELECT s.municipality, COUNT(*) AS end_count\n",
    "FROM trips t\n",
    "JOIN stations s ON t.end_station = s.id\n",
    "GROUP BY s.municipality\n",
    "ORDER BY end_count DESC\n",
    "LIMIT 1;\n"
   ]
  },
  {
   "cell_type": "markdown",
   "metadata": {
    "id": "dOhc8kihADoM"
   },
   "source": [
    "Q13. Which From and To Routes are Frequent with Regards to Municipalities?\n",
    "\n",
    "Hint: Get Start and End Municipalities and Group by Both Attributes for Count of Rides"
   ]
  },
  {
   "cell_type": "code",
   "execution_count": 25,
   "metadata": {
    "id": "zaw_-evaADoM"
   },
   "outputs": [
    {
     "data": {
      "text/html": [
       "<span style=\"None\">Running query in &#x27;sqlite:///hubway.db&#x27;</span>"
      ],
      "text/plain": [
       "Running query in 'sqlite:///hubway.db'"
      ]
     },
     "metadata": {},
     "output_type": "display_data"
    },
    {
     "data": {
      "text/html": [
       "<table>\n",
       "    <thead>\n",
       "        <tr>\n",
       "            <th>start_municipality</th>\n",
       "            <th>end_municipality</th>\n",
       "            <th>trip_count</th>\n",
       "        </tr>\n",
       "    </thead>\n",
       "    <tbody>\n",
       "        <tr>\n",
       "            <td>Boston</td>\n",
       "            <td>Boston</td>\n",
       "            <td>1081805</td>\n",
       "        </tr>\n",
       "        <tr>\n",
       "            <td>Cambridge</td>\n",
       "            <td>Cambridge</td>\n",
       "            <td>162538</td>\n",
       "        </tr>\n",
       "        <tr>\n",
       "            <td>Boston</td>\n",
       "            <td>Cambridge</td>\n",
       "            <td>110968</td>\n",
       "        </tr>\n",
       "        <tr>\n",
       "            <td>Cambridge</td>\n",
       "            <td>Boston</td>\n",
       "            <td>110078</td>\n",
       "        </tr>\n",
       "        <tr>\n",
       "            <td>Cambridge</td>\n",
       "            <td>Somerville</td>\n",
       "            <td>20998</td>\n",
       "        </tr>\n",
       "    </tbody>\n",
       "</table>"
      ],
      "text/plain": [
       "+--------------------+------------------+------------+\n",
       "| start_municipality | end_municipality | trip_count |\n",
       "+--------------------+------------------+------------+\n",
       "|       Boston       |      Boston      |  1081805   |\n",
       "|     Cambridge      |    Cambridge     |   162538   |\n",
       "|       Boston       |    Cambridge     |   110968   |\n",
       "|     Cambridge      |      Boston      |   110078   |\n",
       "|     Cambridge      |    Somerville    |   20998    |\n",
       "+--------------------+------------------+------------+"
      ]
     },
     "execution_count": 25,
     "metadata": {},
     "output_type": "execute_result"
    }
   ],
   "source": [
    "%%sql\n",
    "SELECT s_start.municipality AS start_municipality,\n",
    "       s_end.municipality   AS end_municipality,\n",
    "       COUNT(*) AS trip_count\n",
    "FROM trips t\n",
    "JOIN stations s_start ON t.start_station = s_start.id\n",
    "JOIN stations s_end   ON t.end_station   = s_end.id\n",
    "GROUP BY s_start.municipality, s_end.municipality\n",
    "ORDER BY trip_count DESC\n",
    "LIMIT 5;\n"
   ]
  },
  {
   "cell_type": "markdown",
   "metadata": {
    "id": "ehT4zCLRADoN"
   },
   "source": [
    "Q14. Which Age Band in \"Registered Users\" has the most Rides? Calculate Age Bands based on interval of 10 and Cut Off by 70 or Above\n",
    "\n",
    "Hint: Use Case When to Create Range of Value Bands as per Above Criteria then Group By. Use DoB Years to Calculate Age First (https://youtu.be/G46GIIRbO-g?t=76)"
   ]
  },
  {
   "cell_type": "code",
   "execution_count": 27,
   "metadata": {
    "id": "AmbR10VsADoN"
   },
   "outputs": [
    {
     "data": {
      "text/html": [
       "<span style=\"None\">Running query in &#x27;sqlite:///hubway.db&#x27;</span>"
      ],
      "text/plain": [
       "Running query in 'sqlite:///hubway.db'"
      ]
     },
     "metadata": {},
     "output_type": "display_data"
    },
    {
     "data": {
      "text/html": [
       "<table>\n",
       "    <thead>\n",
       "        <tr>\n",
       "            <th>age_band</th>\n",
       "            <th>ride_count</th>\n",
       "        </tr>\n",
       "    </thead>\n",
       "    <tbody>\n",
       "        <tr>\n",
       "            <td>40-49</td>\n",
       "            <td>137171</td>\n",
       "        </tr>\n",
       "        <tr>\n",
       "            <td>30-39</td>\n",
       "            <td>77557</td>\n",
       "        </tr>\n",
       "        <tr>\n",
       "            <td>50-59</td>\n",
       "            <td>68692</td>\n",
       "        </tr>\n",
       "        <tr>\n",
       "            <td>60-69</td>\n",
       "            <td>47590</td>\n",
       "        </tr>\n",
       "        <tr>\n",
       "            <td>70+</td>\n",
       "            <td>19006</td>\n",
       "        </tr>\n",
       "    </tbody>\n",
       "</table>"
      ],
      "text/plain": [
       "+----------+------------+\n",
       "| age_band | ride_count |\n",
       "+----------+------------+\n",
       "|  40-49   |   137171   |\n",
       "|  30-39   |   77557    |\n",
       "|  50-59   |   68692    |\n",
       "|  60-69   |   47590    |\n",
       "|   70+    |   19006    |\n",
       "+----------+------------+"
      ]
     },
     "execution_count": 27,
     "metadata": {},
     "output_type": "execute_result"
    }
   ],
   "source": [
    "%%sql\n",
    "SELECT \n",
    "    CASE \n",
    "        WHEN (2025 - birth_date) < 20 THEN '<20'\n",
    "        WHEN (2025 - birth_date) BETWEEN 20 AND 29 THEN '20-29'\n",
    "        WHEN (2025 - birth_date) BETWEEN 30 AND 39 THEN '30-39'\n",
    "        WHEN (2025 - birth_date) BETWEEN 40 AND 49 THEN '40-49'\n",
    "        WHEN (2025 - birth_date) BETWEEN 50 AND 59 THEN '50-59'\n",
    "        WHEN (2025 - birth_date) BETWEEN 60 AND 69 THEN '60-69'\n",
    "        ELSE '70+' \n",
    "    END AS age_band,\n",
    "    COUNT(*) AS ride_count\n",
    "FROM trips\n",
    "WHERE sub_type = 'Registered'\n",
    "  AND birth_date IS NOT NULL\n",
    "GROUP BY age_band\n",
    "ORDER BY ride_count DESC;\n"
   ]
  },
  {
   "cell_type": "code",
   "execution_count": 28,
   "metadata": {},
   "outputs": [
    {
     "data": {
      "image/png": "[encoded data removed]",
      "text/plain": [
       "<Figure size 800x600 with 1 Axes>"
      ]
     },
     "metadata": {},
     "output_type": "display_data"
    }
   ],
   "source": [
    "import sqlite3\n",
    "import pandas as pd\n",
    "import matplotlib.pyplot as plt\n",
    "\n",
    "# Connect to your database\n",
    "conn = sqlite3.connect(\"hubway.db\")\n",
    "\n",
    "# SQL query for age bands\n",
    "query = \"\"\"\n",
    "SELECT \n",
    "    CASE \n",
    "        WHEN (2025 - birth_date) < 20 THEN '<20'\n",
    "        WHEN (2025 - birth_date) BETWEEN 20 AND 29 THEN '20-29'\n",
    "        WHEN (2025 - birth_date) BETWEEN 30 AND 39 THEN '30-39'\n",
    "        WHEN (2025 - birth_date) BETWEEN 40 AND 49 THEN '40-49'\n",
    "        WHEN (2025 - birth_date) BETWEEN 50 AND 59 THEN '50-59'\n",
    "        WHEN (2025 - birth_date) BETWEEN 60 AND 69 THEN '60-69'\n",
    "        ELSE '70+' \n",
    "    END AS age_band,\n",
    "    COUNT(*) AS ride_count\n",
    "FROM trips\n",
    "WHERE sub_type = 'Registered'\n",
    "  AND birth_date IS NOT NULL\n",
    "GROUP BY age_band\n",
    "ORDER BY \n",
    "    CASE age_band \n",
    "        WHEN '<20' THEN 1\n",
    "        WHEN '20-29' THEN 2\n",
    "        WHEN '30-39' THEN 3\n",
    "        WHEN '40-49' THEN 4\n",
    "        WHEN '50-59' THEN 5\n",
    "        WHEN '60-69' THEN 6\n",
    "        WHEN '70+' THEN 7\n",
    "    END;\n",
    "\"\"\"\n",
    "\n",
    "# Read into pandas\n",
    "df = pd.read_sql(query, conn)\n",
    "\n",
    "# Plot\n",
    "plt.figure(figsize=(8,6))\n",
    "plt.bar(df[\"age_band\"], df[\"ride_count\"], color=\"skyblue\")\n",
    "plt.title(\"Number of Rides by Age Band (Registered Users)\")\n",
    "plt.xlabel(\"Age Band\")\n",
    "plt.ylabel(\"Number of Rides\")\n",
    "plt.show()\n"
   ]
  },
  {
   "cell_type": "markdown",
   "metadata": {
    "id": "xxhjDL_CADoN"
   },
   "source": [
    "# Analyzing Hubway Trips in Python"
   ]
  },
  {
   "cell_type": "code",
   "execution_count": 29,
   "metadata": {
    "colab": {
     "base_uri": "https://localhost:8080/"
    },
    "executionInfo": {
     "elapsed": 1184,
     "status": "ok",
     "timestamp": 1725720776830,
     "user": {
      "displayName": "Mesum Raza Hemani",
      "userId": "02137032281712867702"
     },
     "user_tz": -300
    },
    "id": "wKsWrjA3ADoN",
    "outputId": "b139dc90-ec0e-46c2-c7e9-7c54c5a2eb4e"
   },
   "outputs": [
    {
     "name": "stdout",
     "output_type": "stream",
     "text": [
      "1570001\n",
      "142\n",
      "1570001\n",
      "142\n"
     ]
    }
   ],
   "source": [
    "# MANDATORY CELL TO EXECUTE FIRST SO WE HAVE DATA IN THE RIGHT TYPE\n",
    "\n",
    "import sqlite3\n",
    "\n",
    "import pandas as pd, numpy as np\n",
    "\n",
    "cnx = sqlite3.connect('hubway.db')\n",
    "\n",
    "cnx.cursor().executescript(\"\"\"\n",
    "\n",
    "UPDATE trips SET duration       = NULL WHERE duration IS '';\n",
    "UPDATE trips SET start_date     = NULL WHERE start_date IS '';\n",
    "UPDATE trips SET start_station  = NULL WHERE start_station IS '';\n",
    "UPDATE trips SET end_date       = NULL WHERE end_date IS '';\n",
    "UPDATE trips SET end_station    = NULL WHERE end_station IS '';\n",
    "UPDATE trips SET sub_type       = NULL WHERE sub_type IS '';\n",
    "UPDATE trips SET zip_code       = NULL WHERE zip_code IS '';\n",
    "UPDATE trips SET birth_date     = NULL WHERE birth_date IS '';\n",
    "UPDATE trips SET gender         = NULL WHERE gender IS '';\n",
    "\n",
    "\"\"\")\n",
    "\n",
    "trips=pd.read_sql_query(\"SELECT * FROM trips\", cnx)\n",
    "stations=pd.read_sql_query(\"SELECT * FROM stations\", cnx)\n",
    "\n",
    "print(len(trips))\n",
    "print(len(stations))\n",
    "\n",
    "trips=trips\\\n",
    "    .replace(r'^\\s*$', np.nan, regex=True)\\\n",
    "    .astype({\\\n",
    "            'start_date':'datetime64[ns]'\\\n",
    "            ,'end_date':'datetime64[ns]'\\\n",
    "            ,'start_station':pd.Int64Dtype()\\\n",
    "            ,'end_station':pd.Int64Dtype()\\\n",
    "            ,'birth_date':pd.Int64Dtype()\\\n",
    "            })\n",
    "\n",
    "stations=stations\\\n",
    "    .replace(r'^\\s*$', np.nan, regex=True)\\\n",
    "    .astype({\\\n",
    "            'lat':'float64'\\\n",
    "            ,'lng':'float64'\\\n",
    "            })\n",
    "\n",
    "print(len(trips))\n",
    "print(len(stations))\n",
    "\n",
    "cnx.close()"
   ]
  },
  {
   "cell_type": "code",
   "execution_count": 32,
   "metadata": {},
   "outputs": [
    {
     "data": {
      "text/html": [
       "<div>\n",
       "<style scoped>\n",
       "    .dataframe tbody tr th:only-of-type {\n",
       "        vertical-align: middle;\n",
       "    }\n",
       "\n",
       "    .dataframe tbody tr th {\n",
       "        vertical-align: top;\n",
       "    }\n",
       "\n",
       "    .dataframe thead th {\n",
       "        text-align: right;\n",
       "    }\n",
       "</style>\n",
       "<table border=\"1\" class=\"dataframe\">\n",
       "  <thead>\n",
       "    <tr style=\"text-align: right;\">\n",
       "      <th></th>\n",
       "      <th>id</th>\n",
       "      <th>duration</th>\n",
       "      <th>start_date</th>\n",
       "      <th>start_station</th>\n",
       "      <th>end_date</th>\n",
       "      <th>end_station</th>\n",
       "      <th>bike_number</th>\n",
       "      <th>sub_type</th>\n",
       "      <th>zip_code</th>\n",
       "      <th>birth_date</th>\n",
       "      <th>gender</th>\n",
       "    </tr>\n",
       "  </thead>\n",
       "  <tbody>\n",
       "    <tr>\n",
       "      <th>0</th>\n",
       "      <td>1</td>\n",
       "      <td>9</td>\n",
       "      <td>2011-07-28 10:12:00</td>\n",
       "      <td>23</td>\n",
       "      <td>2011-07-28 10:12:00</td>\n",
       "      <td>23</td>\n",
       "      <td>B00468</td>\n",
       "      <td>Registered</td>\n",
       "      <td>'97217</td>\n",
       "      <td>1976</td>\n",
       "      <td>Male</td>\n",
       "    </tr>\n",
       "    <tr>\n",
       "      <th>1</th>\n",
       "      <td>2</td>\n",
       "      <td>220</td>\n",
       "      <td>2011-07-28 10:21:00</td>\n",
       "      <td>23</td>\n",
       "      <td>2011-07-28 10:25:00</td>\n",
       "      <td>23</td>\n",
       "      <td>B00554</td>\n",
       "      <td>Registered</td>\n",
       "      <td>'02215</td>\n",
       "      <td>1966</td>\n",
       "      <td>Male</td>\n",
       "    </tr>\n",
       "    <tr>\n",
       "      <th>2</th>\n",
       "      <td>3</td>\n",
       "      <td>56</td>\n",
       "      <td>2011-07-28 10:33:00</td>\n",
       "      <td>23</td>\n",
       "      <td>2011-07-28 10:34:00</td>\n",
       "      <td>23</td>\n",
       "      <td>B00456</td>\n",
       "      <td>Registered</td>\n",
       "      <td>'02108</td>\n",
       "      <td>1943</td>\n",
       "      <td>Male</td>\n",
       "    </tr>\n",
       "    <tr>\n",
       "      <th>3</th>\n",
       "      <td>4</td>\n",
       "      <td>64</td>\n",
       "      <td>2011-07-28 10:35:00</td>\n",
       "      <td>23</td>\n",
       "      <td>2011-07-28 10:36:00</td>\n",
       "      <td>23</td>\n",
       "      <td>B00554</td>\n",
       "      <td>Registered</td>\n",
       "      <td>'02116</td>\n",
       "      <td>1981</td>\n",
       "      <td>Female</td>\n",
       "    </tr>\n",
       "    <tr>\n",
       "      <th>4</th>\n",
       "      <td>5</td>\n",
       "      <td>12</td>\n",
       "      <td>2011-07-28 10:37:00</td>\n",
       "      <td>23</td>\n",
       "      <td>2011-07-28 10:37:00</td>\n",
       "      <td>23</td>\n",
       "      <td>B00554</td>\n",
       "      <td>Registered</td>\n",
       "      <td>'97214</td>\n",
       "      <td>1983</td>\n",
       "      <td>Female</td>\n",
       "    </tr>\n",
       "  </tbody>\n",
       "</table>\n",
       "</div>"
      ],
      "text/plain": [
       "   id  duration          start_date  start_station            end_date  \\\n",
       "0   1         9 2011-07-28 10:12:00             23 2011-07-28 10:12:00   \n",
       "1   2       220 2011-07-28 10:21:00             23 2011-07-28 10:25:00   \n",
       "2   3        56 2011-07-28 10:33:00             23 2011-07-28 10:34:00   \n",
       "3   4        64 2011-07-28 10:35:00             23 2011-07-28 10:36:00   \n",
       "4   5        12 2011-07-28 10:37:00             23 2011-07-28 10:37:00   \n",
       "\n",
       "   end_station bike_number    sub_type zip_code  birth_date  gender  \n",
       "0           23      B00468  Registered   '97217        1976    Male  \n",
       "1           23      B00554  Registered   '02215        1966    Male  \n",
       "2           23      B00456  Registered   '02108        1943    Male  \n",
       "3           23      B00554  Registered   '02116        1981  Female  \n",
       "4           23      B00554  Registered   '97214        1983  Female  "
      ]
     },
     "execution_count": 32,
     "metadata": {},
     "output_type": "execute_result"
    }
   ],
   "source": [
    "trips.head()"
   ]
  },
  {
   "cell_type": "code",
   "execution_count": 33,
   "metadata": {},
   "outputs": [
    {
     "data": {
      "image/png": "[encoded data removed]",
      "text/plain": [
       "<Figure size 640x480 with 1 Axes>"
      ]
     },
     "metadata": {},
     "output_type": "display_data"
    }
   ],
   "source": [
    "import seaborn as sns\n",
    "import matplotlib.pyplot as plt\n",
    "\n",
    "sns.countplot(data=trips, x='sub_type')\n",
    "plt.title(\"Trips by User Type\")\n",
    "plt.show()\n"
   ]
  },
  {
   "cell_type": "code",
   "execution_count": null,
   "metadata": {
    "colab": {
     "base_uri": "https://localhost:8080/"
    },
    "executionInfo": {
     "elapsed": 21459,
     "status": "ok",
     "timestamp": 1713247841006,
     "user": {
      "displayName": "Mesum Raza Hemani",
      "userId": "02137032281712867702"
     },
     "user_tz": -300
    },
    "id": "gr4kJZRiADoN",
    "outputId": "c8b9f6f4-7d66-47ce-9e08-ed7a34e4b9e3"
   },
   "outputs": [
    {
     "name": "stdout",
     "output_type": "stream",
     "text": [
      "Collecting pysqlite3\n",
      "  Downloading pysqlite3-0.5.2.tar.gz (40 kB)\n",
      "\u001b[?25l     \u001b[90m━━━━━━━━━━━━━━━━━━━━━━━━━━━━━━━━━━━━━━━━\u001b[0m \u001b[32m0.0/40.7 kB\u001b[0m \u001b[31m?\u001b[0m eta \u001b[36m-:--:--\u001b[0m\r",
      "\u001b[2K     \u001b[90m━━━━━━━━━━━━━━━━━━━━━━━━━━━━━━━━━━━━━━━━\u001b[0m \u001b[32m40.7/40.7 kB\u001b[0m \u001b[31m1.6 MB/s\u001b[0m eta \u001b[36m0:00:00\u001b[0m\n",
      "\u001b[?25h  Preparing metadata (setup.py) ... \u001b[?25l\u001b[?25hdone\n",
      "Building wheels for collected packages: pysqlite3\n",
      "  Building wheel for pysqlite3 (setup.py) ... \u001b[?25l\u001b[?25hdone\n",
      "  Created wheel for pysqlite3: filename=pysqlite3-0.5.2-cp310-cp310-linux_x86_64.whl size=151111 sha256=962b289176972e96d4cf1e6e335bf01f84dada36401fa0d1705e9c07190bc04f\n",
      "  Stored in directory: /root/.cache/pip/wheels/91/91/77/1912a316aad35d0edcb42ee1aa9b7bc07d7190a5798d378805\n",
      "Successfully built pysqlite3\n",
      "Installing collected packages: pysqlite3\n",
      "Successfully installed pysqlite3-0.5.2\n"
     ]
    }
   ],
   "source": [
    "# ONLY RUN IF YOU HAVE ERROR IN ABOVE CELL (LIKE CANNOT FIND SQLLITE3)\n",
    "\n",
    "#You will have to install SQLLite Connector using the following command:\n",
    "\n",
    "!pip install pysqlite3\n",
    "\n",
    "#Just Execute the cell and it will install\n",
    "\n",
    "#THEN USE import pysqlite3 as sqlite3 in the import as replacement"
   ]
  },
  {
   "cell_type": "code",
   "execution_count": 31,
   "metadata": {
    "colab": {
     "base_uri": "https://localhost:8080/"
    },
    "executionInfo": {
     "elapsed": 398,
     "status": "ok",
     "timestamp": 1725720796665,
     "user": {
      "displayName": "Mesum Raza Hemani",
      "userId": "02137032281712867702"
     },
     "user_tz": -300
    },
    "id": "0vOowduvADoN",
    "outputId": "007757be-68ef-4eee-93e3-6a5b88e1acdd"
   },
   "outputs": [
    {
     "name": "stdout",
     "output_type": "stream",
     "text": [
      "   id  duration          start_date  start_station            end_date  \\\n",
      "0   1         9 2011-07-28 10:12:00             23 2011-07-28 10:12:00   \n",
      "1   2       220 2011-07-28 10:21:00             23 2011-07-28 10:25:00   \n",
      "2   3        56 2011-07-28 10:33:00             23 2011-07-28 10:34:00   \n",
      "3   4        64 2011-07-28 10:35:00             23 2011-07-28 10:36:00   \n",
      "4   5        12 2011-07-28 10:37:00             23 2011-07-28 10:37:00   \n",
      "\n",
      "   end_station bike_number    sub_type zip_code  birth_date  gender  \n",
      "0           23      B00468  Registered   '97217        1976    Male  \n",
      "1           23      B00554  Registered   '02215        1966    Male  \n",
      "2           23      B00456  Registered   '02108        1943    Male  \n",
      "3           23      B00554  Registered   '02116        1981  Female  \n",
      "4           23      B00554  Registered   '97214        1983  Female  \n",
      "\n",
      " ------- \n",
      "\n"
     ]
    },
    {
     "data": {
      "text/html": [
       "<div>\n",
       "<style scoped>\n",
       "    .dataframe tbody tr th:only-of-type {\n",
       "        vertical-align: middle;\n",
       "    }\n",
       "\n",
       "    .dataframe tbody tr th {\n",
       "        vertical-align: top;\n",
       "    }\n",
       "\n",
       "    .dataframe thead th {\n",
       "        text-align: right;\n",
       "    }\n",
       "</style>\n",
       "<table border=\"1\" class=\"dataframe\">\n",
       "  <thead>\n",
       "    <tr style=\"text-align: right;\">\n",
       "      <th></th>\n",
       "      <th>id</th>\n",
       "      <th>station</th>\n",
       "      <th>municipality</th>\n",
       "      <th>lat</th>\n",
       "      <th>lng</th>\n",
       "    </tr>\n",
       "  </thead>\n",
       "  <tbody>\n",
       "    <tr>\n",
       "      <th>0</th>\n",
       "      <td>3</td>\n",
       "      <td>Colleges of the Fenway</td>\n",
       "      <td>Boston</td>\n",
       "      <td>42.340021</td>\n",
       "      <td>-71.100812</td>\n",
       "    </tr>\n",
       "    <tr>\n",
       "      <th>1</th>\n",
       "      <td>4</td>\n",
       "      <td>Tremont St. at Berkeley St.</td>\n",
       "      <td>Boston</td>\n",
       "      <td>42.345392</td>\n",
       "      <td>-71.069616</td>\n",
       "    </tr>\n",
       "    <tr>\n",
       "      <th>2</th>\n",
       "      <td>5</td>\n",
       "      <td>Northeastern U / North Parking Lot</td>\n",
       "      <td>Boston</td>\n",
       "      <td>42.341814</td>\n",
       "      <td>-71.090179</td>\n",
       "    </tr>\n",
       "    <tr>\n",
       "      <th>3</th>\n",
       "      <td>6</td>\n",
       "      <td>Cambridge St. at Joy St.</td>\n",
       "      <td>Boston</td>\n",
       "      <td>42.361285</td>\n",
       "      <td>-71.065140</td>\n",
       "    </tr>\n",
       "    <tr>\n",
       "      <th>4</th>\n",
       "      <td>7</td>\n",
       "      <td>Fan Pier</td>\n",
       "      <td>Boston</td>\n",
       "      <td>42.353412</td>\n",
       "      <td>-71.044624</td>\n",
       "    </tr>\n",
       "  </tbody>\n",
       "</table>\n",
       "</div>"
      ],
      "text/plain": [
       "   id                             station municipality        lat        lng\n",
       "0   3              Colleges of the Fenway       Boston  42.340021 -71.100812\n",
       "1   4         Tremont St. at Berkeley St.       Boston  42.345392 -71.069616\n",
       "2   5  Northeastern U / North Parking Lot       Boston  42.341814 -71.090179\n",
       "3   6            Cambridge St. at Joy St.       Boston  42.361285 -71.065140\n",
       "4   7                            Fan Pier       Boston  42.353412 -71.044624"
      ]
     },
     "execution_count": 31,
     "metadata": {},
     "output_type": "execute_result"
    }
   ],
   "source": [
    "# CHECKING IF THE DATA IS LOAD INTO RIGHT TABLES IN PYTHON DF\n",
    "\n",
    "print(trips.head(5))\n",
    "\n",
    "print('\\n ------- \\n')\n",
    "\n",
    "stations.head(5)"
   ]
  },
  {
   "cell_type": "code",
   "execution_count": null,
   "metadata": {
    "colab": {
     "base_uri": "https://localhost:8080/",
     "height": 81
    },
    "executionInfo": {
     "elapsed": 389,
     "status": "ok",
     "timestamp": 1725720922567,
     "user": {
      "displayName": "Mesum Raza Hemani",
      "userId": "02137032281712867702"
     },
     "user_tz": -300
    },
    "id": "rbDIWWVUADoN",
    "outputId": "1ed05a64-1fe5-4e0c-de95-aaebe5ed9c42"
   },
   "outputs": [
    {
     "data": {
      "application/vnd.google.colaboratory.intrinsic+json": {
       "summary": "{\n  \"name\": \"trips\",\n  \"rows\": 1,\n  \"fields\": [\n    {\n      \"column\": \"mean\",\n      \"properties\": {\n        \"dtype\": \"number\",\n        \"std\": null,\n        \"min\": 912.3235668789808,\n        \"max\": 912.3235668789808,\n        \"num_unique_values\": 1,\n        \"samples\": [\n          912.3235668789808\n        ],\n        \"semantic_type\": \"\",\n        \"description\": \"\"\n      }\n    },\n    {\n      \"column\": \"min\",\n      \"properties\": {\n        \"dtype\": \"number\",\n        \"std\": null,\n        \"min\": 0.0,\n        \"max\": 0.0,\n        \"num_unique_values\": 1,\n        \"samples\": [\n          0.0\n        ],\n        \"semantic_type\": \"\",\n        \"description\": \"\"\n      }\n    },\n    {\n      \"column\": \"max\",\n      \"properties\": {\n        \"dtype\": \"number\",\n        \"std\": null,\n        \"min\": 9720.0,\n        \"max\": 9720.0,\n        \"num_unique_values\": 1,\n        \"samples\": [\n          9720.0\n        ],\n        \"semantic_type\": \"\",\n        \"description\": \"\"\n      }\n    }\n  ]\n}",
       "type": "dataframe"
      },
      "text/html": [
       "\n",
       "  <div id=\"df-ad51f001-d99d-4697-bab1-79a7a7bf2e8b\" class=\"colab-df-container\">\n",
       "    <div>\n",
       "<style scoped>\n",
       "    .dataframe tbody tr th:only-of-type {\n",
       "        vertical-align: middle;\n",
       "    }\n",
       "\n",
       "    .dataframe tbody tr th {\n",
       "        vertical-align: top;\n",
       "    }\n",
       "\n",
       "    .dataframe thead th {\n",
       "        text-align: right;\n",
       "    }\n",
       "</style>\n",
       "<table border=\"1\" class=\"dataframe\">\n",
       "  <thead>\n",
       "    <tr style=\"text-align: right;\">\n",
       "      <th></th>\n",
       "      <th>mean</th>\n",
       "      <th>min</th>\n",
       "      <th>max</th>\n",
       "    </tr>\n",
       "  </thead>\n",
       "  <tbody>\n",
       "    <tr>\n",
       "      <th>duration</th>\n",
       "      <td>912.323567</td>\n",
       "      <td>0.0</td>\n",
       "      <td>9720.0</td>\n",
       "    </tr>\n",
       "  </tbody>\n",
       "</table>\n",
       "</div>\n",
       "    <div class=\"colab-df-buttons\">\n",
       "\n",
       "  <div class=\"colab-df-container\">\n",
       "    <button class=\"colab-df-convert\" onclick=\"convertToInteractive('df-ad51f001-d99d-4697-bab1-79a7a7bf2e8b')\"\n",
       "            title=\"Convert this dataframe to an interactive table.\"\n",
       "            style=\"display:none;\">\n",
       "\n",
       "  <svg xmlns=\"http://www.w3.org/2000/svg\" height=\"24px\" viewBox=\"0 -960 960 960\">\n",
       "    <path d=\"M120-120v-720h720v720H120Zm60-500h600v-160H180v160Zm220 220h160v-160H400v160Zm0 220h160v-160H400v160ZM180-400h160v-160H180v160Zm440 0h160v-160H620v160ZM180-180h160v-160H180v160Zm440 0h160v-160H620v160Z\"/>\n",
       "  </svg>\n",
       "    </button>\n",
       "\n",
       "  <style>\n",
       "    .colab-df-container {\n",
       "      display:flex;\n",
       "      gap: 12px;\n",
       "    }\n",
       "\n",
       "    .colab-df-convert {\n",
       "      background-color: #E8F0FE;\n",
       "      border: none;\n",
       "      border-radius: 50%;\n",
       "      cursor: pointer;\n",
       "      display: none;\n",
       "      fill: #1967D2;\n",
       "      height: 32px;\n",
       "      padding: 0 0 0 0;\n",
       "      width: 32px;\n",
       "    }\n",
       "\n",
       "    .colab-df-convert:hover {\n",
       "      background-color: #E2EBFA;\n",
       "      box-shadow: 0px 1px 2px rgba(60, 64, 67, 0.3), 0px 1px 3px 1px rgba(60, 64, 67, 0.15);\n",
       "      fill: #174EA6;\n",
       "    }\n",
       "\n",
       "    .colab-df-buttons div {\n",
       "      margin-bottom: 4px;\n",
       "    }\n",
       "\n",
       "    [theme=dark] .colab-df-convert {\n",
       "      background-color: #3B4455;\n",
       "      fill: #D2E3FC;\n",
       "    }\n",
       "\n",
       "    [theme=dark] .colab-df-convert:hover {\n",
       "      background-color: #434B5C;\n",
       "      box-shadow: 0px 1px 3px 1px rgba(0, 0, 0, 0.15);\n",
       "      filter: drop-shadow(0px 1px 2px rgba(0, 0, 0, 0.3));\n",
       "      fill: #FFFFFF;\n",
       "    }\n",
       "  </style>\n",
       "\n",
       "    <script>\n",
       "      const buttonEl =\n",
       "        document.querySelector('#df-ad51f001-d99d-4697-bab1-79a7a7bf2e8b button.colab-df-convert');\n",
       "      buttonEl.style.display =\n",
       "        google.colab.kernel.accessAllowed ? 'block' : 'none';\n",
       "\n",
       "      async function convertToInteractive(key) {\n",
       "        const element = document.querySelector('#df-ad51f001-d99d-4697-bab1-79a7a7bf2e8b');\n",
       "        const dataTable =\n",
       "          await google.colab.kernel.invokeFunction('convertToInteractive',\n",
       "                                                    [key], {});\n",
       "        if (!dataTable) return;\n",
       "\n",
       "        const docLinkHtml = 'Like what you see? Visit the ' +\n",
       "          '<a target=\"_blank\" href=https://colab.research.google.com/notebooks/data_table.ipynb>data table notebook</a>'\n",
       "          + ' to learn more about interactive tables.';\n",
       "        element.innerHTML = '';\n",
       "        dataTable['output_type'] = 'display_data';\n",
       "        await google.colab.output.renderOutput(dataTable, element);\n",
       "        const docLink = document.createElement('div');\n",
       "        docLink.innerHTML = docLinkHtml;\n",
       "        element.appendChild(docLink);\n",
       "      }\n",
       "    </script>\n",
       "  </div>\n",
       "\n",
       "\n",
       "    </div>\n",
       "  </div>\n"
      ],
      "text/plain": [
       "                mean  min     max\n",
       "duration  912.323567  0.0  9720.0"
      ]
     },
     "execution_count": 7,
     "metadata": {},
     "output_type": "execute_result"
    }
   ],
   "source": [
    "# EXAMPLE SOLUTION, REMEMBER YOUR ANSWER SHOULD BE PRECISE AND ON POINT (SORTED AND IN RIGHT FORMAT)\n",
    "\n",
    "##PYTHON SOLUTION\n",
    "\n",
    "trips.agg({'duration': ['mean', 'min', 'max']}).T"
   ]
  },
  {
   "cell_type": "code",
   "execution_count": 35,
   "metadata": {
    "id": "Q-sS7oEpADoO"
   },
   "outputs": [
    {
     "name": "stdout",
     "output_type": "stream",
     "text": [
      "Trips by Registered users: 1105192\n"
     ]
    }
   ],
   "source": [
    "## SOLUTION TO QUESTION 2\n",
    "\n",
    "registered_trips_count = trips[trips['sub_type'] == 'Registered'].shape[0]\n",
    "print(\"Trips by Registered users:\", registered_trips_count)\n",
    "\n"
   ]
  },
  {
   "cell_type": "code",
   "execution_count": 39,
   "metadata": {
    "id": "_jz_-LU7ADoO"
   },
   "outputs": [
    {
     "data": {
      "text/plain": [
       "gender\n",
       "Female    271334\n",
       "Male      833858\n",
       "Name: id, dtype: int64"
      ]
     },
     "execution_count": 39,
     "metadata": {},
     "output_type": "execute_result"
    }
   ],
   "source": [
    "## SOLUTION TO QUESTION 3\n",
    "trips['gender'] = trips['gender'].str.strip()\n",
    "\n",
    "gender_counts = trips[trips['sub_type'] == 'Registered'] \\\n",
    "                    .groupby('gender')['id'].count()\n",
    "\n",
    "gender_counts\n"
   ]
  },
  {
   "cell_type": "code",
   "execution_count": 38,
   "metadata": {
    "id": "A-JkaJ08ADoO"
   },
   "outputs": [
    {
     "name": "stdout",
     "output_type": "stream",
     "text": [
      "sub_type\n",
      "Casual        25.327398\n",
      "Registered    10.950434\n",
      "Name: duration, dtype: float64\n"
     ]
    }
   ],
   "source": [
    "## SOLUTION TO QUESTION 4\n",
    "\n",
    "avg_duration_by_type = trips.groupby('sub_type')['duration'].mean() / 60  # in minutes\n",
    "print(avg_duration_by_type)\n"
   ]
  },
  {
   "cell_type": "code",
   "execution_count": 41,
   "metadata": {
    "id": "pgcQ1rPZADoO"
   },
   "outputs": [
    {
     "name": "stdout",
     "output_type": "stream",
     "text": [
      "** MOST USED BIKE **\n",
      "bike_number\n",
      "B00490    2120\n",
      "Name: id, dtype: int64\n"
     ]
    }
   ],
   "source": [
    "## SOLUTION TO QUESTION 5\n",
    "\n",
    "most_used_bike = trips.groupby('bike_number')['id'].count().sort_values(ascending=False).head(1)\n",
    "print(\"** MOST USED BIKE **\")\n",
    "print(most_used_bike)\n"
   ]
  },
  {
   "cell_type": "code",
   "execution_count": 43,
   "metadata": {
    "id": "qssXWctPADoO"
   },
   "outputs": [
    {
     "name": "stdout",
     "output_type": "stream",
     "text": [
      "10.96\n"
     ]
    }
   ],
   "source": [
    "## SOLUTION TO QUESTION 6\n",
    "trips['age'] = 2025 - trips['birth_date']\n",
    "\n",
    "avg_duration_over30 = trips[(trips['sub_type'] == 'Registered') & (trips['age'] > 30)] \\\n",
    "                        ['duration'].mean() / 60  # minutes\n",
    "print(round(avg_duration_over30, 2))\n"
   ]
  },
  {
   "cell_type": "code",
   "execution_count": 45,
   "metadata": {
    "id": "5zMTL2SAADoO"
   },
   "outputs": [
    {
     "name": "stdout",
     "output_type": "stream",
     "text": [
      "                                       station  round_trip_count\n",
      "0  The Esplanade - Beacon St. at Arlington St.              3064\n",
      "1     Boston Public Library - 700 Boylston St.              2548\n",
      "2                Boylston St. at Arlington St.              2163\n",
      "3                         Beacon St / Mass Ave              2144\n",
      "4                     Newbury St / Hereford St              1636\n"
     ]
    }
   ],
   "source": [
    "## SOLUTION TO QUESTION 7\n",
    "\n",
    "round_trips = trips[trips['start_station'] == trips['end_station']]\n",
    "\n",
    "top_round_stations = round_trips.groupby('start_station')['id'].count() \\\n",
    "                                .sort_values(ascending=False) \\\n",
    "                                .head(5) \\\n",
    "                                .reset_index(name='round_trip_count')\n",
    "\n",
    "top_round_stations = top_round_stations.merge(stations[['id','station']], \n",
    "                                              left_on='start_station', right_on='id')\n",
    "\n",
    "top_round_stations = top_round_stations[['station', 'round_trip_count']]\n",
    "\n",
    "print(top_round_stations)\n"
   ]
  },
  {
   "cell_type": "code",
   "execution_count": 48,
   "metadata": {
    "id": "3u4Ej24CADoO"
   },
   "outputs": [
    {
     "name": "stdout",
     "output_type": "stream",
     "text": [
      "Trips across different municipalities: 309783\n"
     ]
    }
   ],
   "source": [
    "## SOLUTION TO QUESTION 8\n",
    "\n",
    "# Join trips with start stations\n",
    "trips_with_munis = trips.merge(\n",
    "    stations[['id', 'municipality']], \n",
    "    left_on='start_station', right_on='id', \n",
    "    how='left'\n",
    ").rename(columns={'municipality': 'start_municipality', 'id': 'start_id'})\n",
    "\n",
    "# Join with end stations\n",
    "trips_with_munis = trips_with_munis.merge(\n",
    "    stations[['id', 'municipality']], \n",
    "    left_on='end_station', right_on='id', \n",
    "    how='left'\n",
    ").rename(columns={'municipality': 'end_municipality', 'id': 'end_id'})\n",
    "\n",
    "\n",
    "different_muni_trips = trips_with_munis[\n",
    "    trips_with_munis['start_municipality'] != trips_with_munis['end_municipality']\n",
    "]\n",
    "\n",
    "print(\"Trips across different municipalities:\", len(different_muni_trips))\n"
   ]
  },
  {
   "cell_type": "code",
   "execution_count": 50,
   "metadata": {},
   "outputs": [
    {
     "name": "stdout",
     "output_type": "stream",
     "text": [
      "int64\n",
      "0       9\n",
      "1     220\n",
      "2      56\n",
      "3      64\n",
      "4      12\n",
      "5      19\n",
      "6      24\n",
      "7       7\n",
      "8       8\n",
      "9    1108\n",
      "Name: duration, dtype: int64\n",
      "0 missing values\n"
     ]
    }
   ],
   "source": [
    "print(trips['duration'].dtype)\n",
    "print(trips['duration'].head(10))\n",
    "print(trips['duration'].isna().sum(), \"missing values\")\n",
    "# Convert to numeric, turn bad values into NaN (like SQL NULL)\n",
    "trips['duration'] = pd.to_numeric(trips['duration'], errors='coerce')\n"
   ]
  },
  {
   "cell_type": "markdown",
   "metadata": {},
   "source": [
    "###### SQL saw blanks as NULL and skipped them, while pandas treated them inconsistently as strings. By cleaning the column with to_numeric(errors='coerce'), both systems finally agreed. This reveals an important lesson: before comparing results across tools, make sure the data types are aligned and missing values are handled the same way."
   ]
  },
  {
   "cell_type": "code",
   "execution_count": 52,
   "metadata": {},
   "outputs": [
    {
     "name": "stdout",
     "output_type": "stream",
     "text": [
      "Total rows in trips: 1570001\n",
      "Rows where duration is NaN: 0\n",
      "Rows > 30 minutes: 123155\n"
     ]
    }
   ],
   "source": [
    "print(\"Total rows in trips:\", len(trips))\n",
    "print(\"Rows where duration is NaN:\", trips['duration'].isna().sum())\n",
    "print(\"Rows > 30 minutes:\", len(long_trips))\n"
   ]
  },
  {
   "cell_type": "code",
   "execution_count": 51,
   "metadata": {
    "id": "qdX-MbjNADoO"
   },
   "outputs": [
    {
     "name": "stdout",
     "output_type": "stream",
     "text": [
      "Trips with additional fees (>30 min): 123155\n"
     ]
    }
   ],
   "source": [
    "## SOLUTION TO QUESTION 9\n",
    "long_trips = trips[trips['duration'] > 1800]\n",
    "print(\"Trips with additional fees (>30 min):\", len(long_trips))\n",
    "\n"
   ]
  },
  {
   "cell_type": "code",
   "execution_count": 53,
   "metadata": {
    "id": "-a-LcD3NADoO"
   },
   "outputs": [
    {
     "name": "stdout",
     "output_type": "stream",
     "text": [
      "bike_number\n",
      "B00490    571.845278\n",
      "Name: duration, dtype: float64\n"
     ]
    }
   ],
   "source": [
    "## SOLUTION TO QUESTION 10\n",
    "\n",
    "# Make sure duration is numeric\n",
    "trips['duration'] = pd.to_numeric(trips['duration'], errors='coerce')\n",
    "\n",
    "# Total ride time per bike (in hours)\n",
    "bike_usage_time = trips.groupby('bike_number')['duration'].sum() / 3600  \n",
    "\n",
    "# Get the bike with the longest total time\n",
    "longest_bike = bike_usage_time.sort_values(ascending=False).head(1)\n",
    "\n",
    "print(longest_bike)\n"
   ]
  },
  {
   "cell_type": "code",
   "execution_count": 54,
   "metadata": {
    "id": "CJdmMWsRADoO"
   },
   "outputs": [
    {
     "name": "stdout",
     "output_type": "stream",
     "text": [
      "sub_type\n",
      "Casual        41427\n",
      "Registered    31635\n",
      "Name: id, dtype: int64\n"
     ]
    }
   ],
   "source": [
    "## SOLUTION TO QUESTION 11\n",
    "\n",
    "\n",
    "round_trips = trips[trips['start_station'] == trips['end_station']]\n",
    "\n",
    "\n",
    "round_trips_by_type = round_trips.groupby('sub_type')['id'].count()\n",
    "\n",
    "print(round_trips_by_type)\n"
   ]
  },
  {
   "cell_type": "code",
   "execution_count": 57,
   "metadata": {
    "id": "o2ImNrM2ADoO"
   },
   "outputs": [
    {
     "data": {
      "text/plain": [
       "municipality\n",
       "Boston    1212364\n",
       "Name: id_x, dtype: int64"
      ]
     },
     "execution_count": 57,
     "metadata": {},
     "output_type": "execute_result"
    }
   ],
   "source": [
    "## SOLUTION TO QUESTION 12\n",
    "\n",
    "# Join trips with stations on end_station\n",
    "end_trips = trips.merge(stations[['id','municipality']], \n",
    "                        left_on='end_station', right_on='id', \n",
    "                        how='left')\n",
    "\n",
    "\n",
    "end_counts = end_trips.groupby('municipality')['id_x'].count().sort_values(ascending=False)\n",
    "\n",
    "end_counts.head(1)  \n"
   ]
  },
  {
   "cell_type": "code",
   "execution_count": 64,
   "metadata": {
    "id": "tmSZ9CBhADoP"
   },
   "outputs": [
    {
     "name": "stdout",
     "output_type": "stream",
     "text": [
      "   start_municipality end_municipality  trip_count\n",
      "0              Boston           Boston     1081805\n",
      "10          Cambridge        Cambridge      162538\n",
      "2              Boston        Cambridge      110968\n",
      "8           Cambridge           Boston      110078\n",
      "11          Cambridge       Somerville       20998\n"
     ]
    }
   ],
   "source": [
    "## SOLUTION TO QUESTION 13\n",
    "\n",
    "trips_with_munis = trips.merge(\n",
    "    stations[['id', 'municipality']], \n",
    "    left_on='start_station', right_on='id', how='left'\n",
    ").rename(columns={'municipality': 'start_municipality', 'id': 'start_id'})\n",
    "\n",
    "trips_with_munis = trips_with_munis.merge(\n",
    "    stations[['id', 'municipality']], \n",
    "    left_on='end_station', right_on='id', how='left'\n",
    ").rename(columns={'municipality': 'end_municipality', 'id': 'end_id'})\n",
    "\n",
    "routes = trips_with_munis.groupby(\n",
    "    ['start_municipality', 'end_municipality']\n",
    ")['duration'].count().reset_index(name='trip_count')\n",
    "\n",
    "routes = routes.sort_values(by='trip_count', ascending=False).head(5)\n",
    "print(routes)\n"
   ]
  },
  {
   "cell_type": "code",
   "execution_count": 63,
   "metadata": {
    "id": "OSkkpkDcADoP"
   },
   "outputs": [
    {
     "data": {
      "text/plain": [
       "age_band\n",
       "40.0-49.0    137171\n",
       "30.0-39.0     77557\n",
       "50.0-59.0     68692\n",
       "60.0-69.0     47590\n",
       "70+           19006\n",
       "Name: id, dtype: int64"
      ]
     },
     "execution_count": 63,
     "metadata": {},
     "output_type": "execute_result"
    }
   ],
   "source": [
    "## SOLUTION TO QUESTION 14 (MINI CHALLENGE)\n",
    "\n",
    "#HELP HINT: https://stackoverflow.com/questions/34165876/trying-to-create-grouped-variable-in-python\n",
    "\n",
    "# Compute age\n",
    "trips['age'] = 2025 - trips['birth_date']\n",
    "\n",
    "# Define age bands\n",
    "def age_band(age):\n",
    "    if pd.isna(age):\n",
    "        return None\n",
    "    elif age < 30:\n",
    "        return None  # exclude under 30\n",
    "    elif age >= 70:\n",
    "        return \"70+\"\n",
    "    else:\n",
    "        # 30–39, 40–49, etc.\n",
    "        return f\"{(age // 10) * 10}-{(age // 10) * 10 + 9}\"\n",
    "\n",
    "# Apply age bands\n",
    "trips['age_band'] = trips['age'].apply(age_band)\n",
    "\n",
    "# Count rides per age band (Registered users only)\n",
    "age_band_counts = trips[trips['sub_type'] == 'Registered'] \\\n",
    "                    .groupby('age_band')['id'].count() \\\n",
    "                    .sort_values(ascending=False)\n",
    "\n",
    "age_band_counts\n"
   ]
  },
  {
   "cell_type": "markdown",
   "metadata": {
    "id": "oYGpjiw8ADoP"
   },
   "source": [
    "### BONUS PYTHON QUESTION (10 Marks)\n",
    "\n",
    "##### Can you show a Report in Python \"What are the Top 5 States with Most Number of Rides\" For Registered Users Only\n",
    "\n",
    "##### Hints :\n",
    "\n",
    "1. Use the Sampled Dataframe for your working, else it would take a lot of time to convert many rows in Original table.\n",
    "\n",
    "2. You will need Data Type Conversion and Cleaning of Zip Code (Don't fear errors / Learn from them)\n",
    "\n",
    "3. Where do you get the States? READ THE CELL BELOW\n",
    "\n",
    "!pip install zipcodes\n",
    "\n",
    "print('\\n')\n",
    "\n",
    "import zipcodes\n",
    "\n",
    "##### Gets All the Information Available against ZipCode\n",
    "\n",
    "print(zipcodes.matching('77429')[0].keys())\n",
    "\n",
    "['zip_code', 'zip_code_type', 'active', 'city', 'acceptable_cities', 'unacceptable_cities', 'state', 'county', 'timezone', 'area_codes', 'world_region', 'country', 'lat', 'long']\n",
    "\n",
    "##### Sample Working how to Fetch a Against a ZipCode\n",
    "\n",
    "zipcodes.matching('77429')[0].get('state')\n",
    "\n",
    "READ MORE > https://github.com/seanpianka/Zipcodes\n"
   ]
  },
  {
   "cell_type": "code",
   "execution_count": 65,
   "metadata": {
    "id": "sSPIRkL8ADoP"
   },
   "outputs": [
    {
     "name": "stderr",
     "output_type": "stream",
     "text": [
      "C:\\Users\\Muhammad Farooq\\AppData\\Local\\Temp\\ipykernel_15096\\442081643.py:3: DeprecationWarning: DataFrameGroupBy.apply operated on the grouping columns. This behavior is deprecated, and in a future version of pandas the grouping columns will be excluded from the operation. Either pass `include_groups=False` to exclude the groupings or explicitly select the grouping columns after groupby to silence this warning.\n",
      "  registered_trips_sampled=trips.query(\"sub_type=='Registered'\").groupby('zip_code').apply(lambda x: x.sample(10, replace=True)).reset_index(drop = True)\n"
     ]
    }
   ],
   "source": [
    "#EXECUTE THIS CELL TO CREATE SAMPLED DATAFRAME\n",
    "\n",
    "registered_trips_sampled=trips.query(\"sub_type=='Registered'\").groupby('zip_code').apply(lambda x: x.sample(10, replace=True)).reset_index(drop = True)"
   ]
  },
  {
   "cell_type": "code",
   "execution_count": 68,
   "metadata": {
    "id": "S-F7MA76ADoP",
    "outputId": "8d1a68c1-b151-4543-f3fe-a83cb088e12e"
   },
   "outputs": [],
   "source": [
    "## YOUR REPORT SOLUTION IN PYTHON\n",
    "# USE registered_trips_sampled Dataframe and temporarily work on column zip_code by storing in variable 'x'\n",
    "x=registered_trips_sampled['zip_code']\n",
    "# CLEAN zip_code COLUMN FROM PUNCTUATIONS\n",
    "# REPLACE NAN VALUES WITH STRING '0' FOR API TO WORK\n",
    "# TRY TO USE LAMBDA FUNCTION IN PYTHON TO GET STATE FOR EACH ROW, ONCE YOUR ARE DONE WITH ABOVE STEPS\n",
    "# SAVE THE OUTPUT INTO A COLUMN NAMED AS registered_trips_sampled['state']\n",
    "registered_trips_sampled['state']=x"
   ]
  },
  {
   "cell_type": "code",
   "execution_count": null,
   "metadata": {},
   "outputs": [],
   "source": [
    "import re\n",
    "import zipcodes\n",
    "\n",
    "x = registered_trips_sampled['zip_code']\n",
    "\n",
    "x = x.astype(str).apply(lambda z: re.sub(r'\\D', '', z))\n",
    "\n",
    "x = x.replace('', '0').fillna('0')\n",
    "\n",
    "# USE LAMBDA FUNCTION TO MAP ZIP → STATE\n",
    "x = x.apply(lambda z: zipcodes.matching(z)[0].get('state') \n",
    "            if (z.isdigit() and len(z)==5 and zipcodes.matching(z)) else None)\n",
    "\n",
    "# SAVE THE OUTPUT INTO A COLUMN\n",
    "registered_trips_sampled['state'] = x\n"
   ]
  },
  {
   "cell_type": "code",
   "execution_count": 72,
   "metadata": {},
   "outputs": [],
   "source": [
    "registered_trips_sampled['state'] = registered_trips_sampled['state'].map(state_names)"
   ]
  },
  {
   "cell_type": "code",
   "execution_count": 75,
   "metadata": {},
   "outputs": [
    {
     "data": {
      "image/png": "[encoded data removed]",
      "text/plain": [
       "<Figure size 700x500 with 1 Axes>"
      ]
     },
     "metadata": {},
     "output_type": "display_data"
    }
   ],
   "source": [
    "import matplotlib.pyplot as plt\n",
    "\n",
    "# Get Top 5 states\n",
    "top_states = registered_trips_sampled['state'].value_counts().head(5)\n",
    "\n",
    "# Colors (pretty pastel palette)\n",
    "colors = ['#66c2a5', '#fc8d62', '#8da0cb', '#e78ac3', '#a6d854']\n",
    "\n",
    "plt.figure(figsize=(7,5))\n",
    "bars = plt.bar(top_states.index, top_states.values, \n",
    "               color=colors, edgecolor='black', linewidth=1.2)\n",
    "\n",
    "# Title & labels\n",
    "plt.title(\"Top 5 States with Most Rides (Registered Users)\", fontsize=14, fontweight='bold')\n",
    "plt.xlabel(\"State\", fontsize=12)\n",
    "plt.ylabel(\"Number of Rides\", fontsize=12)\n",
    "\n",
    "# Rotate x labels for readability\n",
    "plt.xticks(rotation=30, ha='right')\n",
    "\n",
    "# Add values on top of bars\n",
    "for bar in bars:\n",
    "    yval = bar.get_height()\n",
    "    plt.text(bar.get_x() + bar.get_width()/2, yval + 50, \n",
    "             f\"{yval}\", ha='center', va='bottom', fontsize=10, fontweight='bold')\n",
    "\n",
    "# Clean style\n",
    "plt.grid(axis='y', linestyle='--', alpha=0.6)\n",
    "plt.box(False)  # removes top and right border\n",
    "\n",
    "plt.show()\n"
   ]
  },
  {
   "cell_type": "code",
   "execution_count": 74,
   "metadata": {},
   "outputs": [
    {
     "name": "stdout",
     "output_type": "stream",
     "text": [
      "state\n",
      "Massachusetts    3040\n",
      "New Hampshire     460\n",
      "New York          200\n",
      "Rhode Island      190\n",
      "Connecticut       160\n",
      "Maine             150\n",
      "Virginia          110\n",
      "California        110\n",
      "Florida            80\n",
      "Maryland           70\n",
      "Name: count, dtype: int64\n"
     ]
    }
   ],
   "source": [
    "print(registered_trips_sampled['state'].value_counts().head(10))\n"
   ]
  },
  {
   "cell_type": "markdown",
   "metadata": {},
   "source": [
    "###### Most rides come from Massachusetts — no surprise, since Hubway is based in Boston. This reflects habitual use: locals adopt bikeshare as part of their daily routine.\n",
    "\n",
    "But states like New York, California, Texas, and Florida also appear. These are likely visitors or commuters. It shows another side of behavior: people try bikeshare out of curiosity and convenience when traveling.\n",
    "\n",
    "So the Top 5 States report reveals two patterns:\n",
    "\n",
    "Locals = habit & routine\n",
    "\n",
    "Out-of-staters = exploration & novelty"
   ]
  },
  {
   "cell_type": "code",
   "execution_count": 71,
   "metadata": {
    "id": "vFr0WvnhADoP"
   },
   "outputs": [],
   "source": [
    "# WE WILL USE THIS DICTIONARY TO MAP STATE NAMES INSTEAD OF ABBREVIATIONS\n",
    "\n",
    "state_names = {\n",
    "        'AK': 'Alaska',\n",
    "        'AL': 'Alabama',\n",
    "        'AR': 'Arkansas',\n",
    "        'AS': 'American Samoa',\n",
    "        'AZ': 'Arizona',\n",
    "        'CA': 'California',\n",
    "        'CO': 'Colorado',\n",
    "        'CT': 'Connecticut',\n",
    "        'DC': 'District of Columbia',\n",
    "        'DE': 'Delaware',\n",
    "        'FL': 'Florida',\n",
    "        'GA': 'Georgia',\n",
    "        'GU': 'Guam',\n",
    "        'HI': 'Hawaii',\n",
    "        'IA': 'Iowa',\n",
    "        'ID': 'Idaho',\n",
    "        'IL': 'Illinois',\n",
    "        'IN': 'Indiana',\n",
    "        'KS': 'Kansas',\n",
    "        'KY': 'Kentucky',\n",
    "        'LA': 'Louisiana',\n",
    "        'MA': 'Massachusetts',\n",
    "        'MD': 'Maryland',\n",
    "        'ME': 'Maine',\n",
    "        'MI': 'Michigan',\n",
    "        'MN': 'Minnesota',\n",
    "        'MO': 'Missouri',\n",
    "        'MP': 'Northern Mariana Islands',\n",
    "        'MS': 'Mississippi',\n",
    "        'MT': 'Montana',\n",
    "        'NA': 'National',\n",
    "        'NC': 'North Carolina',\n",
    "        'ND': 'North Dakota',\n",
    "        'NE': 'Nebraska',\n",
    "        'NH': 'New Hampshire',\n",
    "        'NJ': 'New Jersey',\n",
    "        'NM': 'New Mexico',\n",
    "        'NV': 'Nevada',\n",
    "        'NY': 'New York',\n",
    "        'OH': 'Ohio',\n",
    "        'OK': 'Oklahoma',\n",
    "        'OR': 'Oregon',\n",
    "        'PA': 'Pennsylvania',\n",
    "        'PR': 'Puerto Rico',\n",
    "        'RI': 'Rhode Island',\n",
    "        'SC': 'South Carolina',\n",
    "        'SD': 'South Dakota',\n",
    "        'TN': 'Tennessee',\n",
    "        'TX': 'Texas',\n",
    "        'UT': 'Utah',\n",
    "        'VA': 'Virginia',\n",
    "        'VI': 'Virgin Islands',\n",
    "        'VT': 'Vermont',\n",
    "        'WA': 'Washington',\n",
    "        'WI': 'Wisconsin',\n",
    "        'WV': 'West Virginia',\n",
    "        'WY': 'Wyoming'\n",
    "}\n"
   ]
  },
  {
   "cell_type": "markdown",
   "metadata": {
    "id": "nT01qUxmADoQ"
   },
   "source": [
    "### WE HOPE YOU ENJOYED LEARNING SQL & PYTHON TOGHETHER"
   ]
  }
 ],
 "metadata": {
  "colab": {
   "collapsed_sections": [
    "nT01qUxmADoQ"
   ],
   "provenance": []
  },
  "kernel_info": {
   "name": "python3"
  },
  "kernelspec": {
   "display_name": "Python 3 (ipykernel)",
   "language": "python",
   "name": "python3"
  },
  "language_info": {
   "codemirror_mode": {
    "name": "ipython",
    "version": 3
   },
   "file_extension": ".py",
   "mimetype": "text/x-python",
   "name": "python",
   "nbconvert_exporter": "python",
   "pygments_lexer": "ipython3",
   "version": "3.13.5"
  },
  "nteract": {
   "version": "0.25.1"
  }
 },
 "nbformat": 4,
 "nbformat_minor": 4
}
